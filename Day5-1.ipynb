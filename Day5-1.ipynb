{
 "cells": [
  {
   "cell_type": "code",
   "execution_count": null,
   "metadata": {},
   "outputs": [],
   "source": [
    "import numpy as np\n",
    "import tensorflow as tf\n",
    "import sklearn"
   ]
  },
  {
   "cell_type": "markdown",
   "metadata": {},
   "source": [
    "# Data Processing"
   ]
  },
  {
   "cell_type": "markdown",
   "metadata": {},
   "source": [
    "### Import Data"
   ]
  },
  {
   "cell_type": "code",
   "execution_count": null,
   "metadata": {},
   "outputs": [],
   "source": [
    "raw_data = np.genfromtxt('x09.txt', skip_header= 36)\n",
    "print(f'Number of Rows: {len(raw_data)}')\n",
    "print(raw_data[:5])"
   ]
  },
  {
   "cell_type": "markdown",
   "metadata": {},
   "source": [
    "### Visualization"
   ]
  },
  {
   "cell_type": "code",
   "execution_count": null,
   "metadata": {},
   "outputs": [],
   "source": [
    "from mpl_toolkits.mplot3d import Axes3D\n",
    "import matplotlib.pyplot as plt\n",
    "\n",
    "xs = np.array(raw_data[: , 2] , dtype=np.float32) # 2nd Column\n",
    "ys = np.array(raw_data[: , 3] , dtype=np.float32) # 3rd Column\n",
    "zs = np.array(raw_data[: , 4] , dtype=np.float32) # 4th Column\n",
    "\n",
    "fig, axs = plt.subplots(1,2,figsize = (7,5),subplot_kw={'projection': '3d'})\n",
    "\n",
    "axs[0].scatter(xs, ys, zs)\n",
    "axs[0].view_init(5,15)\n",
    "axs[0].set_xlabel('Weight')\n",
    "axs[0].set_ylabel('Age')\n",
    "axs[0].set_zlabel('Blood fat')\n",
    "\n",
    "axs[1].scatter(xs, ys, zs)\n",
    "axs[1].view_init(25,45)\n",
    "axs[1].set_xlabel('Weight')\n",
    "axs[1].set_ylabel('Age')\n",
    "axs[1].set_zlabel('Blood fat')\n"
   ]
  },
  {
   "cell_type": "markdown",
   "metadata": {},
   "source": [
    "### Seperate Data"
   ]
  },
  {
   "cell_type": "code",
   "execution_count": null,
   "metadata": {},
   "outputs": [],
   "source": [
    "X = np.array(raw_data[:, 2:4], dtype=np.float32) # divide input value\n",
    "y =  np.array(raw_data[:, 4], dtype=np.float32) #divide output value\n",
    "y = y.reshape(len(y), 1)\n",
    "\n",
    "print(f' X values: (multi values - input)\\n {X[:5]}')\n",
    "print(f' y value: (single value - output)\\n {y[:5]}')\n"
   ]
  },
  {
   "cell_type": "markdown",
   "metadata": {},
   "source": [
    "### Scale to 0~1"
   ]
  },
  {
   "cell_type": "code",
   "execution_count": 5,
   "metadata": {},
   "outputs": [],
   "source": [
    "import sklearn.preprocessing\n",
    "\n",
    "scaler = sklearn.preprocessing.MinMaxScaler(feature_range= (0,1))\n",
    "scaled_X = scaler.fit_transform(X)"
   ]
  },
  {
   "cell_type": "markdown",
   "metadata": {},
   "source": [
    "### Create Model"
   ]
  },
  {
   "cell_type": "code",
   "execution_count": null,
   "metadata": {},
   "outputs": [],
   "source": [
    "model1 = tf.keras.models.Sequential([ # maually set hidden layer parameters\n",
    "    \n",
    "    tf.keras.layers.Dense(units=1, input_shape=(2,), activation= 'relu') # 1st Hidden Layer gets 2 input (Age, Weight)\n",
    "\n",
    "])\n",
    "\n",
    "model1.compile(\n",
    "    optimizer= 'rmsprop', # ex)\"rnsprop\" \n",
    "    loss = \"mse\", # ex)\"mse\" method for varify the prediction with actual resul\n",
    ")\n",
    "\n",
    "model2 = tf.keras.models.Sequential([ # maually set hidden layer parameters\n",
    "    \n",
    "    tf.keras.layers.Dense(units=2, input_shape=(2,), activation= 'relu'), # 1st Hidden Layer gets 2 input (Age, Weight)\n",
    "    tf.keras.layers.Dense(units=2, activation= 'softmax')\n",
    "])\n",
    "\n",
    "model2.compile(\n",
    "    optimizer= tf.keras.optimizers.Adam(learning_rate=0.0001), # ex)\"rnsprop\" \n",
    "    loss = \"sparse_categorical_crossentropy\" # ex)\"mse\" method for varify the prediction with actual resul\n",
    ")\n",
    "\n",
    "\n",
    "model3 = tf.keras.models.Sequential([ # maually set hidden layer parameters\n",
    "    \n",
    "    tf.keras.layers.Dense(units=2, input_shape=(2,), activation= 'relu'), # 1st Hidden Layer gets 2 input (Age, Weight)\n",
    "    tf.keras.layers.Dense(units=2, activation= 'relu'),\n",
    "    tf.keras.layers.Dense(units=2, activation= 'softmax')\n",
    "])\n",
    "\n",
    "model3.compile(\n",
    "    optimizer= 'rmsprop', # ex)\"rnsprop\" \n",
    "    loss = \"mse\" # ex)\"mse\" method for varify the prediction with actual resul\n",
    ")\n",
    "\n",
    "\n",
    "# model.compile(\n",
    "#     optimizer=tf.keras.optimizers.Adam(learning_rate=0.0001), # ex)\"rnsprop\" \n",
    "#     loss = \"sparse_categorical_crossentropy\", # ex)\"mse\" method for varify the prediction with actual resul\n",
    "# )"
   ]
  },
  {
   "cell_type": "code",
   "execution_count": null,
   "metadata": {},
   "outputs": [],
   "source": [
    "class Callback(tf.keras.callbacks.Callback):\n",
    "    SHOW_NUMBER = 10\n",
    "    counter = 0\n",
    "    epoch = 0\n",
    "\n",
    "    def on_epoch_begin(self, epoch, logs=None):\n",
    "        self.epoch = epoch\n",
    "\n",
    "    def on_train_batch_end(self, batch, logs=None):\n",
    "        if self.counter == self.SHOW_NUMBER or self.epoch == 1:\n",
    "            print('Epoch: ' + str(self.epoch) + ' loss: ' + str(logs['loss']))\n",
    "            if self.epoch > 1:\n",
    "                self.counter = 0\n",
    "        self.counter += 1\n",
    "\n",
    "hist1 = model1.fit(\n",
    "    X,\n",
    "    y,\n",
    "    batch_size = 1,\n",
    "    epochs= 5000, \n",
    "    callbacks=[Callback()],\n",
    "    verbose=0\n",
    ")\n",
    "\n",
    "hist3 = model3.fit(\n",
    "    X,\n",
    "    y,\n",
    "    batch_size = 1,\n",
    "    epochs= 5000, \n",
    "    callbacks=[Callback()],\n",
    "    verbose=0\n",
    ")"
   ]
  },
  {
   "cell_type": "code",
   "execution_count": null,
   "metadata": {},
   "outputs": [],
   "source": [
    "fig, axs = plt.subplots(2,1 , figsize=(7,3))\n",
    "axs[0].plot(hist1.history['loss'])\n",
    "# axs[1].plot(hist2.history['loss'])\n",
    "axs[1].plot(hist3.history['loss'])"
   ]
  },
  {
   "cell_type": "code",
   "execution_count": null,
   "metadata": {},
   "outputs": [],
   "source": [
    "# model1.predict(np.array([100, 44]).reshape(1,2))\n",
    "# model2.predict(np.array([100, 44]).reshape(1,2))\n",
    "\n",
    "weight = 100\n",
    "age = 44\n",
    "\n",
    "print(model3.predict(np.array([weight, age]).reshape(1,2)))\n"
   ]
  },
  {
   "cell_type": "code",
   "execution_count": null,
   "metadata": {},
   "outputs": [],
   "source": []
  },
  {
   "cell_type": "code",
   "execution_count": null,
   "metadata": {},
   "outputs": [],
   "source": []
  }
 ],
 "metadata": {
  "kernelspec": {
   "display_name": ".venv",
   "language": "python",
   "name": "python3"
  },
  "language_info": {
   "codemirror_mode": {
    "name": "ipython",
    "version": 3
   },
   "file_extension": ".py",
   "mimetype": "text/x-python",
   "name": "python",
   "nbconvert_exporter": "python",
   "pygments_lexer": "ipython3",
   "version": "3.10.12"
  }
 },
 "nbformat": 4,
 "nbformat_minor": 2
}
